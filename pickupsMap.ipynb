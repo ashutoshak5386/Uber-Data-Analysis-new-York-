{
 "cells": [
  {
   "cell_type": "code",
   "execution_count": 1,
   "id": "e0d2f151",
   "metadata": {},
   "outputs": [
    {
     "name": "stderr",
     "output_type": "stream",
     "text": [
      "C:\\Users\\sanjo\\AppData\\Local\\Temp\\ipykernel_10264\\2481016552.py:12: FutureWarning: The frame.append method is deprecated and will be removed from pandas in a future version. Use pandas.concat instead.\n",
      "  df = df_apr14.append([df_may14,df_jun14,df_jul14,df_aug14,df_sep14], ignore_index=True) #merging in single dataframe\n"
     ]
    }
   ],
   "source": [
    "#importing modules\n",
    "import gmplot\n",
    "import pandas as pd\n",
    "\n",
    "df_apr14=pd.read_csv(\"uber-raw-data-apr14.csv\")\n",
    "df_may14=pd.read_csv(\"uber-raw-data-may14.csv\")\n",
    "df_jun14=pd.read_csv(\"uber-raw-data-jun14.csv\")\n",
    "df_jul14=pd.read_csv(\"uber-raw-data-jul14.csv\")\n",
    "df_aug14=pd.read_csv(\"uber-raw-data-aug14.csv\")\n",
    "df_sep14=pd.read_csv(\"uber-raw-data-sep14.csv\")\n",
    "\n",
    "df = df_apr14.append([df_may14,df_jun14,df_jul14,df_aug14,df_sep14], ignore_index=True) #merging in single dataframe\n",
    "df = df.sample(n=80000)\n",
    "Lat = list(df['Lat'])\n",
    "Lon = list(df['Lon'])"
   ]
  },
  {
   "cell_type": "code",
   "execution_count": 2,
   "id": "f036abee",
   "metadata": {},
   "outputs": [],
   "source": [
    "#pickups heatmap\n",
    "gmap = gmplot.GoogleMapPlotter(40.7402, -74.0488, 10)\n",
    "gmap.heatmap(Lat,Lon,opacity = 0.8)\n",
    "gmap.draw('pickupLocationsHeatmap.html')"
   ]
  },
  {
   "cell_type": "code",
   "execution_count": 3,
   "id": "19065978",
   "metadata": {},
   "outputs": [],
   "source": [
    "#pickups scatter map\n",
    "gmap = gmplot.GoogleMapPlotter(40.7402, -74.0488, 10)\n",
    "gmap.scatter(Lat,Lon,c='cornflowerblue',size=30,symbol='x',alpha=0.7,marker=False)\n",
    "gmap.draw('pickupLocationsScatter.html')"
   ]
  },
  {
   "cell_type": "code",
   "execution_count": 4,
   "id": "4c3d20a8",
   "metadata": {},
   "outputs": [],
   "source": [
    "#pickups location marker\n",
    "gmap = gmplot.GoogleMapPlotter(40.7402, -74.0488, 10)\n",
    "gmap.scatter(Lat,Lon,c='red',size=20,alpha=0.7,marker=True)\n",
    "gmap.draw('pickupLocationsMarker.html')"
   ]
  }
 ],
 "metadata": {
  "kernelspec": {
   "display_name": "Python 3 (ipykernel)",
   "language": "python",
   "name": "python3"
  },
  "language_info": {
   "codemirror_mode": {
    "name": "ipython",
    "version": 3
   },
   "file_extension": ".py",
   "mimetype": "text/x-python",
   "name": "python",
   "nbconvert_exporter": "python",
   "pygments_lexer": "ipython3",
   "version": "3.9.12"
  }
 },
 "nbformat": 4,
 "nbformat_minor": 5
}
